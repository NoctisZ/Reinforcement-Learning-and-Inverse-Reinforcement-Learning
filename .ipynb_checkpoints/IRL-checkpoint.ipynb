{
 "cells": [
  {
   "cell_type": "code",
   "execution_count": 1,
   "metadata": {},
   "outputs": [],
   "source": [
    "import matplotlib\n",
    "import seaborn as sns\n",
    "import numpy as np\n",
    "import matplotlib.pyplot as plt\n",
    "import random\n",
    "from cvxopt import matrix, solvers"
   ]
  },
  {
   "cell_type": "code",
   "execution_count": null,
   "metadata": {},
   "outputs": [],
   "source": [
    "def irl(num_states, num_actions, TP, policy, gamma, Rmax, lam):\n",
    "    \n",
    "    def equalT(a, s):\n",
    "        T = np.dot((TP[policy[s], s] - TP[a, s]),(np.linalg.inv(np.eye(num_states)) - gamma * TP[policy[s]]))\n",
    "        return T\n",
    "    \n",
    "    c = -np.hstack([np.zeros(num_states), np.ones(num_states), -lam*np.ones(num_states)])\n",
    "    c = matrix(c)\n",
    "    \n",
    "    A = set(range(num_actions))\n",
    "    Ts = np.vstack([-equalT(a, s) for s in range(num_states)\n",
    "                   for a in A-{policy[s]}])\n",
    "    Zs1 = np.zeros((num_states * (num_actions-1), num_states))\n",
    "    Zs2 = np.zeros((num_states, num_states))\n",
    "    Is1 = np.vstack([np.eye(1, num_states, s) for s in range(num_states)\n",
    "                    for a in A-{policy[s]}])\n",
    "    Is2 = np.eye(num_states)\n",
    "    \n",
    "    D = np.hstack([np.vstack([Ts,Ts,-Is2,-Is2]), np.vstack([Is1,Zs1,Zs2,Zs2]), np.vstack([Zs1,Zs1,-Is2,-Is2])])\n",
    "    D_add = np.hstack([np.vstack([-np.eye(num_states),np.eye(num_states)]),\n",
    "                       np.vstack([np.zeros((num_states,num_states)),np.zeros((num_states,num_states))]),\n",
    "                       np.vstack([np.zeros((num_states,num_states)),np.zeros((num_states,num_states))])\n",
    "                      ])\n",
    "    D = np.vstack((D, D_add))\n",
    "    A_new = matrix(D)\n",
    "    \n",
    "    b = np.zeros(((num_states * (num_actions-1) * 2 + 2 * num_states), 1))\n",
    "    b_add = np.vstack([Rmax * np.ones((num_states, 1))] * 2)\n",
    "    b = matrix(np.vstack((b, b_add)))\n",
    "    \n",
    "    result = solvers.lp(c, A_new, b)\n",
    "    r = np.asarray(result['x'][:num_states], dtype=np.double)\n",
    "    return r.reshape((num_states,))"
   ]
  }
 ],
 "metadata": {
  "kernelspec": {
   "display_name": "Python 2",
   "language": "python",
   "name": "python2"
  },
  "language_info": {
   "codemirror_mode": {
    "name": "ipython",
    "version": 2
   },
   "file_extension": ".py",
   "mimetype": "text/x-python",
   "name": "python",
   "nbconvert_exporter": "python",
   "pygments_lexer": "ipython2",
   "version": "2.7.11"
  }
 },
 "nbformat": 4,
 "nbformat_minor": 2
}
